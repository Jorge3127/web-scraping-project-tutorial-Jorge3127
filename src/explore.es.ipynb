{
 "cells": [
  {
   "cell_type": "markdown",
   "metadata": {},
   "source": [
    "# Explora aquí\n",
    "\n",
    "Se recomienda utilizar este cuaderno con fines de exploración."
   ]
  },
  {
   "cell_type": "code",
   "execution_count": 104,
   "metadata": {},
   "outputs": [
    {
     "name": "stdout",
     "output_type": "stream",
     "text": [
      "PASO 1\n",
      " \n"
     ]
    },
    {
     "data": {
      "text/plain": [
       "'<html>\\r\\n<head>\\r\\n\\n</head>\\r\\n<body>\\r\\n<div style=\"margin: 50px auto; width: 50%; border: 1px solid #dfdfdf; padding: 20px 50px 30px 50px; font-family:helvetica;\">\\r\\n\\r\\n<h1>We do not allow automated access to our servers.</h1>\\r\\n<h2><p>Automated access to our data is prohibited by our data provider.</p>  \\r\\n<p>If you are a user attempting to access the site via a browser, please follow this process to regain access:</p>\\r\\n\\r\\n<ul>\\r\\n  <li>Go to <a href=\\'https://whatismyipaddress.com/\\' target=\\'_blank\\' rel=\\'noopener noreferrer\\'>whatismyipaddress</a> and obtain your IPv4 address</li>\\r\\n  <li>Email us your IPv4 address at <a href=\"/cdn-cgi/l/email-protection\" class=\"__cf_email__\" data-cfemail=\"4821262e270825292b3a273c3a2d262c3b66262d3c\">[email&#160;protected]</a></li>\\r\\n  <li>We will add you to our whitelist within 24 hours</li>\\r\\n</ul>\\r\\n</h2>\\r\\n</div>\\r\\n<script data-cfasync=\"false\">!function(){\"use strict\";function e(e){try{if(\"undefined\"==typeof console)return;\"error\"in console?console.error(e):console.log(e)}catch(e){}}function t(e,t){var r=e.substr(t,2);return parseInt(r,16)}function r(r,n){for(var c=\"\",o=t(r,n),a=n+2;a<r.length;a+=2){var l=t(r,a)^o;c+=String.fromCharCode(l)}try{c=decodeURIComponent(escape(c))}catch(t){e(t)}return function(e){return i.innerHTML=\\'<a href=\"\\'+e.replace(/\"/g,\"&quot;\")+\\'\"></a>\\',i.childNodes[0].getAttribute(\"href\")||\"\"}(c)}function n(t){try{(function(t){for(var n=t.querySelectorAll(\"a\"),o=0;o<n.length;o++)try{var a=n[o],i=a.href.indexOf(c);i>-1&&(a.href=\"mailto:\"+r(a.href,i+c.length))}catch(t){e(t)}})(t),function(t){for(var n=t.querySelectorAll(o),c=0;c<n.length;c++)try{var i=n[c],l=i.parentNode,u=i.getAttribute(a);if(u){var f=r(u,0),d=document.createTextNode(f);l.replaceChild(d,i)}}catch(t){e(t)}}(t),function(t){for(var r=t.querySelectorAll(\"template\"),c=0;c<r.length;c++)try{n(r[c].content)}catch(t){e(t)}}(t)}catch(t){e(t)}}var c=\"/cdn-cgi/l/email-protection#\",o=\".__cf_email__\",a=\"data-cfemail\",i=document.createElement(\"div\");n(document),function(){var e=document.currentScript||document.scripts[document.scripts.length-1];e.parentNode.removeChild(e)}()}();</script><script>(function(){function c(){var b=a.contentDocument||a.contentWindow.document;if(b){var d=b.createElement(\\'script\\');d.innerHTML=\"window.__CF$cv$params={r:\\'8ded1506dca25330\\',t:\\'MTczMDk3OTk3OS4wMDAwMDA=\\'};var a=document.createElement(\\'script\\');a.nonce=\\'\\';a.src=\\'/cdn-cgi/challenge-platform/scripts/jsd/main.js\\';document.getElementsByTagName(\\'head\\')[0].appendChild(a);\";b.getElementsByTagName(\\'head\\')[0].appendChild(d)}}if(document.body){var a=document.createElement(\\'iframe\\');a.height=1;a.width=1;a.style.position=\\'absolute\\';a.style.top=0;a.style.left=0;a.style.border=\\'none\\';a.style.visibility=\\'hidden\\';document.body.appendChild(a);if(\\'loading\\'!==document.readyState)c();else if(window.addEventListener)document.addEventListener(\\'DOMContentLoaded\\',c);else{var e=document.onreadystatechange||function(){};document.onreadystatechange=function(b){e(b);\\'loading\\'!==document.readyState&&(document.onreadystatechange=e,c())}}}})();</script></body>\\r\\n</html>'"
      ]
     },
     "execution_count": 104,
     "metadata": {},
     "output_type": "execute_result"
    }
   ],
   "source": [
    "\n",
    "import pandas as pd\n",
    "import requests\n",
    "import os\n",
    "from bs4 import BeautifulSoup\n",
    "import time\n",
    "import sqlite3\n",
    "import matplotlib.pyplot as plt\n",
    "import seaborn as sns\n",
    "from datetime import datetime\n",
    "\n",
    "\n",
    "# URL de la página que queremos scrapear\n",
    "url = \"https://www.macrotrends.net/stocks/charts/TSLA/tesla/revenue\"\n",
    "\n",
    "# Realizar la solicitud GET\n",
    "html_data = requests.get(url, timeout=10).text\n",
    "\n",
    "# Si la solicitud es denegada, usar headers para evitar el bloqueo\n",
    "if \"403 Forbidden\" in html_data:\n",
    "    headers = {\n",
    "        \"User-Agent\": \"Mozilla/5.0 (Macintosh; Intel Mac OS X 10_11_5) AppleWebKit/537.36 (KHTML, like Gecko) Chrome/50.0.2661.102 Safari/537.36\"\n",
    "    }\n",
    "    response = requests.get(url, headers=headers, timeout=15)\n",
    "    response.raise_for_status()  # Lanza una excepción si la solicitud no fue exitosa\n",
    "    html_data = response.text\n",
    "\n",
    "print(\"PASO 1\")\n",
    "print(\" \")\n",
    "html_data\n"
   ]
  },
  {
   "cell_type": "code",
   "execution_count": 105,
   "metadata": {},
   "outputs": [
    {
     "data": {
      "text/plain": [
       "<html>\n",
       "<head>\n",
       "</head>\n",
       "<body>\n",
       "<div style=\"margin: 50px auto; width: 50%; border: 1px solid #dfdfdf; padding: 20px 50px 30px 50px; font-family:helvetica;\">\n",
       "<h1>We do not allow automated access to our servers.</h1>\n",
       "<h2><p>Automated access to our data is prohibited by our data provider.</p>\n",
       "<p>If you are a user attempting to access the site via a browser, please follow this process to regain access:</p>\n",
       "<ul>\n",
       "<li>Go to <a href=\"https://whatismyipaddress.com/\" rel=\"noopener noreferrer\" target=\"_blank\">whatismyipaddress</a> and obtain your IPv4 address</li>\n",
       "<li>Email us your IPv4 address at <a class=\"__cf_email__\" data-cfemail=\"4821262e270825292b3a273c3a2d262c3b66262d3c\" href=\"/cdn-cgi/l/email-protection\">[email protected]</a></li>\n",
       "<li>We will add you to our whitelist within 24 hours</li>\n",
       "</ul>\n",
       "</h2>\n",
       "</div>\n",
       "<script data-cfasync=\"false\">!function(){\"use strict\";function e(e){try{if(\"undefined\"==typeof console)return;\"error\"in console?console.error(e):console.log(e)}catch(e){}}function t(e,t){var r=e.substr(t,2);return parseInt(r,16)}function r(r,n){for(var c=\"\",o=t(r,n),a=n+2;a<r.length;a+=2){var l=t(r,a)^o;c+=String.fromCharCode(l)}try{c=decodeURIComponent(escape(c))}catch(t){e(t)}return function(e){return i.innerHTML='<a href=\"'+e.replace(/\"/g,\"&quot;\")+'\"></a>',i.childNodes[0].getAttribute(\"href\")||\"\"}(c)}function n(t){try{(function(t){for(var n=t.querySelectorAll(\"a\"),o=0;o<n.length;o++)try{var a=n[o],i=a.href.indexOf(c);i>-1&&(a.href=\"mailto:\"+r(a.href,i+c.length))}catch(t){e(t)}})(t),function(t){for(var n=t.querySelectorAll(o),c=0;c<n.length;c++)try{var i=n[c],l=i.parentNode,u=i.getAttribute(a);if(u){var f=r(u,0),d=document.createTextNode(f);l.replaceChild(d,i)}}catch(t){e(t)}}(t),function(t){for(var r=t.querySelectorAll(\"template\"),c=0;c<r.length;c++)try{n(r[c].content)}catch(t){e(t)}}(t)}catch(t){e(t)}}var c=\"/cdn-cgi/l/email-protection#\",o=\".__cf_email__\",a=\"data-cfemail\",i=document.createElement(\"div\");n(document),function(){var e=document.currentScript||document.scripts[document.scripts.length-1];e.parentNode.removeChild(e)}()}();</script><script>(function(){function c(){var b=a.contentDocument||a.contentWindow.document;if(b){var d=b.createElement('script');d.innerHTML=\"window.__CF$cv$params={r:'8ded1506dca25330',t:'MTczMDk3OTk3OS4wMDAwMDA='};var a=document.createElement('script');a.nonce='';a.src='/cdn-cgi/challenge-platform/scripts/jsd/main.js';document.getElementsByTagName('head')[0].appendChild(a);\";b.getElementsByTagName('head')[0].appendChild(d)}}if(document.body){var a=document.createElement('iframe');a.height=1;a.width=1;a.style.position='absolute';a.style.top=0;a.style.left=0;a.style.border='none';a.style.visibility='hidden';document.body.appendChild(a);if('loading'!==document.readyState)c();else if(window.addEventListener)document.addEventListener('DOMContentLoaded',c);else{var e=document.onreadystatechange||function(){};document.onreadystatechange=function(b){e(b);'loading'!==document.readyState&&(document.onreadystatechange=e,c())}}}})();</script></body>\n",
       "</html>"
      ]
     },
     "execution_count": 105,
     "metadata": {},
     "output_type": "execute_result"
    }
   ],
   "source": [
    "# Parsear el HTML con BeautifulSoup\n",
    "soup = BeautifulSoup(html_data, \"html.parser\")\n",
    "soup\n"
   ]
  },
  {
   "cell_type": "code",
   "execution_count": 106,
   "metadata": {},
   "outputs": [
    {
     "data": {
      "text/plain": [
       "[]"
      ]
     },
     "execution_count": 106,
     "metadata": {},
     "output_type": "execute_result"
    }
   ],
   "source": [
    "# Buscar todas las tablas en la página\n",
    "tables = soup.find_all(\"table\")\n",
    "tables\n"
   ]
  },
  {
   "cell_type": "code",
   "execution_count": 107,
   "metadata": {},
   "outputs": [
    {
     "ename": "ValueError",
     "evalue": "No se encontró el encabezado de 'Revenue (Quarterly) Chart'.",
     "output_type": "error",
     "traceback": [
      "\u001b[0;31m---------------------------------------------------------------------------\u001b[0m",
      "\u001b[0;31mValueError\u001b[0m                                Traceback (most recent call last)",
      "Cell \u001b[0;32mIn[107], line 7\u001b[0m\n\u001b[1;32m      5\u001b[0m     table \u001b[38;5;241m=\u001b[39m header\u001b[38;5;241m.\u001b[39mfind_next(\u001b[38;5;124m\"\u001b[39m\u001b[38;5;124mtable\u001b[39m\u001b[38;5;124m\"\u001b[39m)\n\u001b[1;32m      6\u001b[0m \u001b[38;5;28;01melse\u001b[39;00m:\n\u001b[0;32m----> 7\u001b[0m     \u001b[38;5;28;01mraise\u001b[39;00m \u001b[38;5;167;01mValueError\u001b[39;00m(\u001b[38;5;124m\"\u001b[39m\u001b[38;5;124mNo se encontró el encabezado de \u001b[39m\u001b[38;5;124m'\u001b[39m\u001b[38;5;124mRevenue (Quarterly) Chart\u001b[39m\u001b[38;5;124m'\u001b[39m\u001b[38;5;124m.\u001b[39m\u001b[38;5;124m\"\u001b[39m)\n",
      "\u001b[0;31mValueError\u001b[0m: No se encontró el encabezado de 'Revenue (Quarterly) Chart'."
     ]
    }
   ],
   "source": [
    "# Buscar el encabezado de la tabla \"Revenue (Quarterly) Chart\"\n",
    "header = soup.find(\"h3\", class_=\"panel-content\", string=\"Revenue (Quarterly) Chart\")\n",
    "if header:\n",
    "    # Encontrar la tabla que sigue inmediatamente después del encabezado\n",
    "    table = header.find_next(\"table\")\n",
    "else:\n",
    "    raise ValueError(\"No se encontró el encabezado de 'Revenue (Quarterly) Chart'.\")\n"
   ]
  },
  {
   "cell_type": "code",
   "execution_count": null,
   "metadata": {},
   "outputs": [],
   "source": [
    "import pandas as pd\n",
    "import requests\n",
    "from bs4 import BeautifulSoup\n",
    "import sqlite3\n",
    "import matplotlib.pyplot as plt\n",
    "import seaborn as sns\n",
    "\n",
    "# URL de la página que queremos scrapear\n",
    "url = \"https://www.macrotrends.net/stocks/charts/TSLA/tesla/revenue\"\n",
    "\n",
    "# Realizar la solicitud GET\n",
    "html_data = requests.get(url, timeout=10).text\n",
    "\n",
    "# Si la solicitud es denegada, usar headers para evitar el bloqueo\n",
    "if \"403 Forbidden\" in html_data:\n",
    "    headers = {\n",
    "        \"User-Agent\": \"Mozilla/5.0 (Macintosh; Intel Mac OS X 10_11_5) AppleWebKit/537.36 (KHTML, like Gecko) Chrome/50.0.2661.102 Safari/537.36\"\n",
    "    }\n",
    "    response = requests.get(url, headers=headers, timeout=15)\n",
    "    response.raise_for_status()\n",
    "    html_data = response.text\n",
    "\n",
    "# Parsear el HTML con BeautifulSoup\n",
    "soup = BeautifulSoup(html_data, \"html.parser\")\n",
    "\n",
    "# Buscar el encabezado de la tabla de ingresos trimestrales\n",
    "header = soup.find(\"h3\", class_=\"panel-title\", string=\"Historical Revenue (Quarterly) Data\")\n",
    "if header:\n",
    "    # Encontrar la tabla que sigue inmediatamente después del encabezado\n",
    "    table = header.find_next(\"table\")\n",
    "else:\n",
    "    raise ValueError(\"No se encontró el encabezado de 'Historical Revenue (Quarterly) Data'.\")\n",
    "\n",
    "# Paso 4: Procesar el marco de datos\n",
    "# Construir el DataFrame sin pd.concat en un bucle\n",
    "data = []\n",
    "\n",
    "for row in table.tbody.find_all(\"tr\"):\n",
    "    col = row.find_all(\"td\")\n",
    "    if col:\n",
    "        Date = col[0].text.strip()\n",
    "        Revenue = col[1].text.strip().replace(\"$\", \"\").replace(\",\", \"\")\n",
    "        if Revenue:  # Solo añadir si Revenue no está vacío\n",
    "            data.append({\"Date\": Date, \"Revenue\": Revenue})\n",
    "\n",
    "# Convertir lista de diccionarios a DataFrame de una sola vez\n",
    "tesla_revenue = pd.DataFrame(data)\n",
    "tesla_revenue[\"Date\"] = pd.to_datetime(tesla_revenue[\"Date\"])\n",
    "tesla_revenue[\"Revenue\"] = pd.to_numeric(tesla_revenue[\"Revenue\"], errors='coerce').fillna(0).astype(int)\n",
    "\n",
    "# Paso 5: Almacenar los datos en SQLite\n",
    "connection = sqlite3.connect(\"Tesla.db\")\n",
    "cursor = connection.cursor()\n",
    "\n",
    "# Crear la tabla 'revenue' si no existe\n",
    "cursor.execute(\"DROP TABLE IF EXISTS revenue\")  # Para evitar duplicados en pruebas\n",
    "cursor.execute(\"CREATE TABLE revenue (Date TEXT, Revenue INTEGER)\")\n",
    "\n",
    "# Insertar datos en SQLite con un solo comando executemany\n",
    "tesla_tuples = list(tesla_revenue.itertuples(index=False, name=None))\n",
    "cursor.executemany(\"INSERT INTO revenue VALUES (?, ?)\", tesla_tuples)\n",
    "\n",
    "# Confirmar los cambios en la base de datos y cerrar la conexión\n",
    "connection.commit()\n",
    "connection.close()\n",
    "\n",
    "# Paso 6: Visualización de datos\n",
    "# Visualización de series de tiempos de ingresos trimestrales\n",
    "fig, axis = plt.subplots(figsize=(10, 5))\n",
    "sns.lineplot(data=tesla_revenue, x=\"Date\", y=\"Revenue\", ax=axis)\n",
    "axis.set_title(\"Ingresos trimestrales de Tesla\")\n",
    "plt.tight_layout()\n",
    "plt.show()\n",
    "\n",
    "# Beneficio bruto anual\n",
    "fig, axis = plt.subplots(figsize=(10, 5))\n",
    "\n",
    "# Agrupar los ingresos anualmente\n",
    "tesla_revenue_yearly = tesla_revenue.groupby(tesla_revenue[\"Date\"].dt.year).sum().reset_index()\n",
    "\n",
    "# Filtrar hasta 2022 y graficar\n",
    "sns.barplot(data=tesla_revenue_yearly[tesla_revenue_yearly[\"Date\"] < 2023], x=\"Date\", y=\"Revenue\", ax=axis)\n",
    "axis.set_title(\"Beneficio bruto anual de Tesla\")\n",
    "plt.tight_layout()\n",
    "plt.show()\n",
    "\n",
    "# Beneficio bruto mensual\n",
    "fig, axis = plt.subplots(figsize=(10, 5))\n",
    "\n",
    "# Agrupar los ingresos mensualmente (agregación en todos los años)\n",
    "tesla_revenue_monthly = tesla_revenue.groupby(tesla_revenue[\"Date\"].dt.month).sum().reset_index()\n",
    "\n",
    "# Graficar ingresos por mes\n",
    "sns.barplot(data=tesla_revenue_monthly, x=\"Date\", y=\"Revenue\", ax=axis)\n",
    "axis.set_title(\"Beneficio bruto mensual promedio de Tesla\")\n",
    "plt.tight_layout()\n",
    "plt.show()"
   ]
  }
 ],
 "metadata": {
  "kernelspec": {
   "display_name": "Python 3",
   "language": "python",
   "name": "python3"
  },
  "language_info": {
   "codemirror_mode": {
    "name": "ipython",
    "version": 3
   },
   "file_extension": ".py",
   "mimetype": "text/x-python",
   "name": "python",
   "nbconvert_exporter": "python",
   "pygments_lexer": "ipython3",
   "version": "3.11.4"
  },
  "orig_nbformat": 4
 },
 "nbformat": 4,
 "nbformat_minor": 2
}
