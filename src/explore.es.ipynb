{
 "cells": [
  {
   "cell_type": "markdown",
   "metadata": {},
   "source": [
    "# Explora aquí\n",
    "\n",
    "Se recomienda utilizar este cuaderno con fines de exploración."
   ]
  },
  {
   "cell_type": "code",
   "execution_count": 9,
   "metadata": {},
   "outputs": [
    {
     "name": "stdout",
     "output_type": "stream",
     "text": [
      "PASO 1. <html>\n",
      "<head>\n",
      "\n",
      "</head>\n",
      "<body>\n",
      "<div style=\"margin: 50px auto; width: 50%; border: 1px solid #dfdfdf; padding: 20px 50px 30px 50px; font-family:helvetica;\">\n",
      "\n",
      "<h1>We do not allow automated access to our servers.</h1>\n",
      "<h2><p>Automated access to our data is prohibited by our data provider.</p>  \n",
      "<p>If you are a user attempting to access the site via a browser, please follow this process to regain access:</p>\n",
      "\n",
      "<ul>\n",
      "  <li>Go to <a href='https://whatismyipaddress.com/' target='_blank' rel='noopener noreferrer'>whatismyipaddress</a> and obtain your IPv4 address</li>\n",
      "  <li>Email us your IPv4 address at <a href=\"/cdn-cgi/l/email-protection\" class=\"__cf_email__\" data-cfemail=\"4821262e270825292b3a273c3a2d262c3b66262d3c\">[email&#160;protected]</a></li>\n",
      "  <li>We will add you to our whitelist within 24 hours</li>\n",
      "</ul>\n",
      "</h2>\n",
      "</div>\n",
      "<script data-cfasync=\"false\">!function(){\"use strict\";function e(e){try{if(\"undefined\"==typeof console)return;\"error\"in console?console.error(e):console.log(e)}catch(e){}}function t(e,t){var r=e.substr(t,2);return parseInt(r,16)}function r(r,n){for(var c=\"\",o=t(r,n),a=n+2;a<r.length;a+=2){var l=t(r,a)^o;c+=String.fromCharCode(l)}try{c=decodeURIComponent(escape(c))}catch(t){e(t)}return function(e){return i.innerHTML='<a href=\"'+e.replace(/\"/g,\"&quot;\")+'\"></a>',i.childNodes[0].getAttribute(\"href\")||\"\"}(c)}function n(t){try{(function(t){for(var n=t.querySelectorAll(\"a\"),o=0;o<n.length;o++)try{var a=n[o],i=a.href.indexOf(c);i>-1&&(a.href=\"mailto:\"+r(a.href,i+c.length))}catch(t){e(t)}})(t),function(t){for(var n=t.querySelectorAll(o),c=0;c<n.length;c++)try{var i=n[c],l=i.parentNode,u=i.getAttribute(a);if(u){var f=r(u,0),d=document.createTextNode(f);l.replaceChild(d,i)}}catch(t){e(t)}}(t),function(t){for(var r=t.querySelectorAll(\"template\"),c=0;c<r.length;c++)try{n(r[c].content)}catch(t){e(t)}}(t)}catch(t){e(t)}}var c=\"/cdn-cgi/l/email-protection#\",o=\".__cf_email__\",a=\"data-cfemail\",i=document.createElement(\"div\");n(document),function(){var e=document.currentScript||document.scripts[document.scripts.length-1];e.parentNode.removeChild(e)}()}();</script><script>(function(){function c(){var b=a.contentDocument||a.contentWindow.document;if(b){var d=b.createElement('script');d.innerHTML=\"window.__CF$cv$params={r:'8df6e07c2cc271f0',t:'MTczMTA4MjY4NC4wMDAwMDA='};var a=document.createElement('script');a.nonce='';a.src='/cdn-cgi/challenge-platform/scripts/jsd/main.js';document.getElementsByTagName('head')[0].appendChild(a);\";b.getElementsByTagName('head')[0].appendChild(d)}}if(document.body){var a=document.createElement('iframe');a.height=1;a.width=1;a.style.position='absolute';a.style.top=0;a.style.left=0;a.style.border='none';a.style.visibility='hidden';document.body.appendChild(a);if('loading'!==document.readyState)c();else if(window.addEventListener)document.addEventListener('DOMContentLoaded',c);else{var e=document.onreadystatechange||function(){};document.onreadystatechange=function(b){e(b);'loading'!==document.readyState&&(document.onreadystatechange=e,c())}}}})();</script></body>\n",
      "</html>\n"
     ]
    }
   ],
   "source": [
    "import pandas as pd\n",
    "import requests\n",
    "from bs4 import BeautifulSoup\n",
    "import time\n",
    "\n",
    "#Paso 1. Hacer la solicitud a la URL\n",
    "url = \"https://www.macrotrends.net/stocks/charts/TSLA/tesla/revenue\"\n",
    "html_data = requests.get(url, time.sleep(15)).text\n",
    "\n",
    "# If no information is extracted, then connect as anonymous\n",
    "if \"403 Forbidden\" in html_data:\n",
    "    headers = {\"User-Agent\": \"Mozilla/5.0 (Macintosh; Intel Mac OS X 10_11_5) AppleWebKit/537.36 (KHTML, like Gecko) Chrome/50.0.2661.102 Safari/537.36\"}\n",
    "    request = requests.get(url, headers = headers)\n",
    "    time.sleep(15)\n",
    "    html_data = request.text\n",
    "\n",
    "html_data\n",
    "print(\"PASO 1.\", html_data)\n",
    "\n"
   ]
  },
  {
   "cell_type": "code",
   "execution_count": 10,
   "metadata": {},
   "outputs": [
    {
     "name": "stdout",
     "output_type": "stream",
     "text": [
      "PASO 2. <html>\n",
      "<head>\n",
      "</head>\n",
      "<body>\n",
      "<div style=\"margin: 50px auto; width: 50%; border: 1px solid #dfdfdf; padding: 20px 50px 30px 50px; font-family:helvetica;\">\n",
      "<h1>We do not allow automated access to our servers.</h1>\n",
      "<h2><p>Automated access to our data is prohibited by our data provider.</p>\n",
      "<p>If you are a user attempting to access the site via a browser, please follow this process to regain access:</p>\n",
      "<ul>\n",
      "<li>Go to <a href=\"https://whatismyipaddress.com/\" rel=\"noopener noreferrer\" target=\"_blank\">whatismyipaddress</a> and obtain your IPv4 address</li>\n",
      "<li>Email us your IPv4 address at <a class=\"__cf_email__\" data-cfemail=\"4821262e270825292b3a273c3a2d262c3b66262d3c\" href=\"/cdn-cgi/l/email-protection\">[email protected]</a></li>\n",
      "<li>We will add you to our whitelist within 24 hours</li>\n",
      "</ul>\n",
      "</h2>\n",
      "</div>\n",
      "<script data-cfasync=\"false\">!function(){\"use strict\";function e(e){try{if(\"undefined\"==typeof console)return;\"error\"in console?console.error(e):console.log(e)}catch(e){}}function t(e,t){var r=e.substr(t,2);return parseInt(r,16)}function r(r,n){for(var c=\"\",o=t(r,n),a=n+2;a<r.length;a+=2){var l=t(r,a)^o;c+=String.fromCharCode(l)}try{c=decodeURIComponent(escape(c))}catch(t){e(t)}return function(e){return i.innerHTML='<a href=\"'+e.replace(/\"/g,\"&quot;\")+'\"></a>',i.childNodes[0].getAttribute(\"href\")||\"\"}(c)}function n(t){try{(function(t){for(var n=t.querySelectorAll(\"a\"),o=0;o<n.length;o++)try{var a=n[o],i=a.href.indexOf(c);i>-1&&(a.href=\"mailto:\"+r(a.href,i+c.length))}catch(t){e(t)}})(t),function(t){for(var n=t.querySelectorAll(o),c=0;c<n.length;c++)try{var i=n[c],l=i.parentNode,u=i.getAttribute(a);if(u){var f=r(u,0),d=document.createTextNode(f);l.replaceChild(d,i)}}catch(t){e(t)}}(t),function(t){for(var r=t.querySelectorAll(\"template\"),c=0;c<r.length;c++)try{n(r[c].content)}catch(t){e(t)}}(t)}catch(t){e(t)}}var c=\"/cdn-cgi/l/email-protection#\",o=\".__cf_email__\",a=\"data-cfemail\",i=document.createElement(\"div\");n(document),function(){var e=document.currentScript||document.scripts[document.scripts.length-1];e.parentNode.removeChild(e)}()}();</script><script>(function(){function c(){var b=a.contentDocument||a.contentWindow.document;if(b){var d=b.createElement('script');d.innerHTML=\"window.__CF$cv$params={r:'8df6e0da3d9194af',t:'MTczMTA4MjY5OS4wMDAwMDA='};var a=document.createElement('script');a.nonce='';a.src='/cdn-cgi/challenge-platform/scripts/jsd/main.js';document.getElementsByTagName('head')[0].appendChild(a);\";b.getElementsByTagName('head')[0].appendChild(d)}}if(document.body){var a=document.createElement('iframe');a.height=1;a.width=1;a.style.position='absolute';a.style.top=0;a.style.left=0;a.style.border='none';a.style.visibility='hidden';document.body.appendChild(a);if('loading'!==document.readyState)c();else if(window.addEventListener)document.addEventListener('DOMContentLoaded',c);else{var e=document.onreadystatechange||function(){};document.onreadystatechange=function(b){e(b);'loading'!==document.readyState&&(document.onreadystatechange=e,c())}}}})();</script></body>\n",
      "</html>\n"
     ]
    }
   ],
   "source": [
    "import pandas as pd\n",
    "import requests\n",
    "from bs4 import BeautifulSoup\n",
    "import time\n",
    "\n",
    "#Paso 1. Hacer la solicitud a la URL\n",
    "url = \"https://www.macrotrends.net/stocks/charts/TSLA/tesla/revenue\"\n",
    "html_data = requests.get(url, time.sleep(15)).text\n",
    "\n",
    "# If no information is extracted, then connect as anonymous\n",
    "if \"403 Forbidden\" in html_data:\n",
    "    headers = {\"User-Agent\": \"Mozilla/5.0 (Macintosh; Intel Mac OS X 10_11_5) AppleWebKit/537.36 (KHTML, like Gecko) Chrome/50.0.2661.102 Safari/537.36\"}\n",
    "    request = requests.get(url, headers = headers)\n",
    "    time.sleep(15)\n",
    "    html_data = request.text\n",
    "\n",
    "#Paso 2. Parsear el HTML con BeutifulSoup\n",
    "soup = BeautifulSoup(html_data, 'html.parser')\n",
    "soup\n",
    "print(\"PASO 2.\", soup)\n"
   ]
  },
  {
   "cell_type": "code",
   "execution_count": 11,
   "metadata": {},
   "outputs": [
    {
     "name": "stdout",
     "output_type": "stream",
     "text": [
      "No data found in any table.\n"
     ]
    }
   ],
   "source": [
    "from bs4 import BeautifulSoup\n",
    "import requests\n",
    "import pandas as pd\n",
    "import time\n",
    "\n",
    "# URL de la página web\n",
    "url = \"https://www.macrotrends.net/stocks/charts/TSLA/tesla/revenue\"\n",
    "\n",
    "# Paso 1. Hacer la solicitud a la URL\n",
    "response = requests.get(url)\n",
    "time.sleep(15)  # Esperar 15 segundos\n",
    "\n",
    "html_data = response.text\n",
    "\n",
    "# Si no se extrae información, conectarse como anónimo\n",
    "if \"403 Forbidden\" in html_data:\n",
    "    headers = {\n",
    "        \"User-Agent\": \"Mozilla/5.0 (Macintosh; Intel Mac OS X 10_11_5) AppleWebKit/537.36 (KHTML, como Gecko) Chrome/50.0.2661.102 Safari/537.36\"\n",
    "    }\n",
    "    response = requests.get(url, headers=headers)\n",
    "    time.sleep(15)  # Esperar 15 segundos\n",
    "    html_data = response.text\n",
    "\n",
    "# Parsear el HTML\n",
    "soup = BeautifulSoup(html_data, 'html.parser')\n",
    "\n",
    "# Encontrar todas las tablas dentro de los <div> con clase 'row'\n",
    "rows = soup.find_all('div', class_='row')\n",
    "\n",
    "# Lista para almacenar los datos extraídos\n",
    "all_data = []\n",
    "\n",
    "# Iterar sobre cada <div> con clase 'row'\n",
    "for row_div in rows:\n",
    "    col_divs = row_div.find_all('div', class_='col-6')\n",
    "    for table_div in col_divs:\n",
    "        table = table_div.find('table', class_='table')  # Encontrar la tabla dentro del div\n",
    "        if table:\n",
    "            # Extraer las filas de la tabla\n",
    "            rows = table.find('tr')\n",
    "            header = [th.text.strip() for th in rows[0].find_all('th')]  # Extraer encabezados\n",
    "            data_rows = rows[1:]  # Ignorar la fila de encabezado\n",
    "            \n",
    "            # Iterar sobre las filas de datos\n",
    "            for row in data_rows:\n",
    "                cols = row.find_all('td')\n",
    "                if len(cols) > 1:  # Verificar que la fila tiene dos celdas\n",
    "                    date = cols[0].text.strip()  # Fecha\n",
    "                    value = cols[1].text.strip()  # Valor\n",
    "                    all_data.append([date, value])\n",
    "        else:\n",
    "            print(\"No table found in this div.\")\n",
    "\n",
    "if not all_data:\n",
    "    print(\"No data found in any table.\")\n",
    "else:\n",
    "    # Crear un DataFrame con los datos extraídos\n",
    "    df = pd.DataFrame(all_data, columns=[\"Date\", \"Value\"])\n",
    "\n",
    "    # Mostrar el DataFrame\n",
    "    print(df)\n",
    "\n",
    "# Verificar las filas de las tablas\n",
    "for row_div in rows:\n",
    "    col_divs = row_div.find_all('div', class_='col-6')\n",
    "    for table_div in col_divs:\n",
    "        table = table_div.find('table', class_='table')  \n",
    "        if table:\n",
    "            rows = table.find_all('tr')\n",
    "            print(f\"Filas encontradas: {len(rows)}\")\n",
    "            for row in rows:\n",
    "                print(row.text.strip())  # Imprime las filas para depuración\n"
   ]
  }
 ],
 "metadata": {
  "kernelspec": {
   "display_name": "Python 3",
   "language": "python",
   "name": "python3"
  },
  "language_info": {
   "codemirror_mode": {
    "name": "ipython",
    "version": 3
   },
   "file_extension": ".py",
   "mimetype": "text/x-python",
   "name": "python",
   "nbconvert_exporter": "python",
   "pygments_lexer": "ipython3",
   "version": "3.11.4"
  },
  "orig_nbformat": 4
 },
 "nbformat": 4,
 "nbformat_minor": 2
}
